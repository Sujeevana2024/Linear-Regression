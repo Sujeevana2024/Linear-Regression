{
 "cells": [
  {
   "cell_type": "code",
   "execution_count": 7,
   "id": "f9b4c753-3cb7-4fb2-b20d-8506bbed1f9a",
   "metadata": {},
   "outputs": [],
   "source": [
    "import pandas as pd\n",
    "import numpy as np\n",
    "import matplotlib.pyplot as plt\n",
    "import seaborn as sns\n",
    "from scipy import stats\n",
    "import statsmodels.api as sm"
   ]
  },
  {
   "cell_type": "code",
   "execution_count": 9,
   "id": "d602483b-44b2-4a0f-8c2e-ac1c0238f9c1",
   "metadata": {},
   "outputs": [
    {
     "data": {
      "text/html": [
       "<div>\n",
       "<style scoped>\n",
       "    .dataframe tbody tr th:only-of-type {\n",
       "        vertical-align: middle;\n",
       "    }\n",
       "\n",
       "    .dataframe tbody tr th {\n",
       "        vertical-align: top;\n",
       "    }\n",
       "\n",
       "    .dataframe thead th {\n",
       "        text-align: right;\n",
       "    }\n",
       "</style>\n",
       "<table border=\"1\" class=\"dataframe\">\n",
       "  <thead>\n",
       "    <tr style=\"text-align: right;\">\n",
       "      <th></th>\n",
       "      <th>num_pass</th>\n",
       "      <th>cost</th>\n",
       "    </tr>\n",
       "  </thead>\n",
       "  <tbody>\n",
       "    <tr>\n",
       "      <th>0</th>\n",
       "      <td>61</td>\n",
       "      <td>4280</td>\n",
       "    </tr>\n",
       "    <tr>\n",
       "      <th>1</th>\n",
       "      <td>63</td>\n",
       "      <td>4080</td>\n",
       "    </tr>\n",
       "    <tr>\n",
       "      <th>2</th>\n",
       "      <td>67</td>\n",
       "      <td>4420</td>\n",
       "    </tr>\n",
       "    <tr>\n",
       "      <th>3</th>\n",
       "      <td>69</td>\n",
       "      <td>4170</td>\n",
       "    </tr>\n",
       "    <tr>\n",
       "      <th>4</th>\n",
       "      <td>70</td>\n",
       "      <td>4480</td>\n",
       "    </tr>\n",
       "  </tbody>\n",
       "</table>\n",
       "</div>"
      ],
      "text/plain": [
       "   num_pass  cost\n",
       "0        61  4280\n",
       "1        63  4080\n",
       "2        67  4420\n",
       "3        69  4170\n",
       "4        70  4480"
      ]
     },
     "execution_count": 9,
     "metadata": {},
     "output_type": "execute_result"
    }
   ],
   "source": [
    "df = pd.read_csv(r'C:\\Users\\rajes\\OneDrive\\Desktop\\Praxis\\Term 2\\MSE\\data-20241017T032734Z-001\\data\\airline cost new.csv')\n",
    "df.head()"
   ]
  },
  {
   "cell_type": "markdown",
   "id": "4bb42ed6-11f2-4175-8468-489d6cde6ad0",
   "metadata": {},
   "source": [
    "# For constant also we have a coefficient which is always 1\n",
    "# so we are adding constant here"
   ]
  },
  {
   "cell_type": "code",
   "execution_count": 11,
   "id": "69d7c7ad-5d07-4718-85e1-760f3947a9b9",
   "metadata": {},
   "outputs": [],
   "source": [
    "y = df[['cost']]\n",
    "x = df.drop('cost',axis=1)\n",
    "xc = sm.add_constant(x)"
   ]
  },
  {
   "cell_type": "code",
   "execution_count": 13,
   "id": "55515e30-f7ab-48a4-9b45-df7a2cb71fc7",
   "metadata": {},
   "outputs": [
    {
     "data": {
      "text/html": [
       "<table class=\"simpletable\">\n",
       "<caption>OLS Regression Results</caption>\n",
       "<tr>\n",
       "  <th>Dep. Variable:</th>          <td>cost</td>       <th>  R-squared:         </th> <td>   0.865</td>\n",
       "</tr>\n",
       "<tr>\n",
       "  <th>Model:</th>                   <td>OLS</td>       <th>  Adj. R-squared:    </th> <td>   0.863</td>\n",
       "</tr>\n",
       "<tr>\n",
       "  <th>Method:</th>             <td>Least Squares</td>  <th>  F-statistic:       </th> <td>   302.2</td>\n",
       "</tr>\n",
       "<tr>\n",
       "  <th>Date:</th>             <td>Thu, 17 Oct 2024</td> <th>  Prob (F-statistic):</th> <td>4.23e-22</td>\n",
       "</tr>\n",
       "<tr>\n",
       "  <th>Time:</th>                 <td>09:46:22</td>     <th>  Log-Likelihood:    </th> <td> -323.87</td>\n",
       "</tr>\n",
       "<tr>\n",
       "  <th>No. Observations:</th>      <td>    49</td>      <th>  AIC:               </th> <td>   651.7</td>\n",
       "</tr>\n",
       "<tr>\n",
       "  <th>Df Residuals:</th>          <td>    47</td>      <th>  BIC:               </th> <td>   655.5</td>\n",
       "</tr>\n",
       "<tr>\n",
       "  <th>Df Model:</th>              <td>     1</td>      <th>                     </th>     <td> </td>   \n",
       "</tr>\n",
       "<tr>\n",
       "  <th>Covariance Type:</th>      <td>nonrobust</td>    <th>                     </th>     <td> </td>   \n",
       "</tr>\n",
       "</table>\n",
       "<table class=\"simpletable\">\n",
       "<tr>\n",
       "      <td></td>        <th>coef</th>     <th>std err</th>      <th>t</th>      <th>P>|t|</th>  <th>[0.025</th>    <th>0.975]</th>  \n",
       "</tr>\n",
       "<tr>\n",
       "  <th>const</th>    <td> 1612.9763</td> <td>  185.831</td> <td>    8.680</td> <td> 0.000</td> <td> 1239.133</td> <td> 1986.820</td>\n",
       "</tr>\n",
       "<tr>\n",
       "  <th>num_pass</th> <td>   39.8941</td> <td>    2.295</td> <td>   17.383</td> <td> 0.000</td> <td>   35.277</td> <td>   44.511</td>\n",
       "</tr>\n",
       "</table>\n",
       "<table class=\"simpletable\">\n",
       "<tr>\n",
       "  <th>Omnibus:</th>       <td> 3.612</td> <th>  Durbin-Watson:     </th> <td>   2.624</td>\n",
       "</tr>\n",
       "<tr>\n",
       "  <th>Prob(Omnibus):</th> <td> 0.164</td> <th>  Jarque-Bera (JB):  </th> <td>   2.700</td>\n",
       "</tr>\n",
       "<tr>\n",
       "  <th>Skew:</th>          <td> 0.556</td> <th>  Prob(JB):          </th> <td>   0.259</td>\n",
       "</tr>\n",
       "<tr>\n",
       "  <th>Kurtosis:</th>      <td> 3.296</td> <th>  Cond. No.          </th> <td>    574.</td>\n",
       "</tr>\n",
       "</table><br/><br/>Notes:<br/>[1] Standard Errors assume that the covariance matrix of the errors is correctly specified."
      ],
      "text/latex": [
       "\\begin{center}\n",
       "\\begin{tabular}{lclc}\n",
       "\\toprule\n",
       "\\textbf{Dep. Variable:}    &       cost       & \\textbf{  R-squared:         } &     0.865   \\\\\n",
       "\\textbf{Model:}            &       OLS        & \\textbf{  Adj. R-squared:    } &     0.863   \\\\\n",
       "\\textbf{Method:}           &  Least Squares   & \\textbf{  F-statistic:       } &     302.2   \\\\\n",
       "\\textbf{Date:}             & Thu, 17 Oct 2024 & \\textbf{  Prob (F-statistic):} &  4.23e-22   \\\\\n",
       "\\textbf{Time:}             &     09:46:22     & \\textbf{  Log-Likelihood:    } &   -323.87   \\\\\n",
       "\\textbf{No. Observations:} &          49      & \\textbf{  AIC:               } &     651.7   \\\\\n",
       "\\textbf{Df Residuals:}     &          47      & \\textbf{  BIC:               } &     655.5   \\\\\n",
       "\\textbf{Df Model:}         &           1      & \\textbf{                     } &             \\\\\n",
       "\\textbf{Covariance Type:}  &    nonrobust     & \\textbf{                     } &             \\\\\n",
       "\\bottomrule\n",
       "\\end{tabular}\n",
       "\\begin{tabular}{lcccccc}\n",
       "                   & \\textbf{coef} & \\textbf{std err} & \\textbf{t} & \\textbf{P$> |$t$|$} & \\textbf{[0.025} & \\textbf{0.975]}  \\\\\n",
       "\\midrule\n",
       "\\textbf{const}     &    1612.9763  &      185.831     &     8.680  &         0.000        &     1239.133    &     1986.820     \\\\\n",
       "\\textbf{num\\_pass} &      39.8941  &        2.295     &    17.383  &         0.000        &       35.277    &       44.511     \\\\\n",
       "\\bottomrule\n",
       "\\end{tabular}\n",
       "\\begin{tabular}{lclc}\n",
       "\\textbf{Omnibus:}       &  3.612 & \\textbf{  Durbin-Watson:     } &    2.624  \\\\\n",
       "\\textbf{Prob(Omnibus):} &  0.164 & \\textbf{  Jarque-Bera (JB):  } &    2.700  \\\\\n",
       "\\textbf{Skew:}          &  0.556 & \\textbf{  Prob(JB):          } &    0.259  \\\\\n",
       "\\textbf{Kurtosis:}      &  3.296 & \\textbf{  Cond. No.          } &     574.  \\\\\n",
       "\\bottomrule\n",
       "\\end{tabular}\n",
       "%\\caption{OLS Regression Results}\n",
       "\\end{center}\n",
       "\n",
       "Notes: \\newline\n",
       " [1] Standard Errors assume that the covariance matrix of the errors is correctly specified."
      ],
      "text/plain": [
       "<class 'statsmodels.iolib.summary.Summary'>\n",
       "\"\"\"\n",
       "                            OLS Regression Results                            \n",
       "==============================================================================\n",
       "Dep. Variable:                   cost   R-squared:                       0.865\n",
       "Model:                            OLS   Adj. R-squared:                  0.863\n",
       "Method:                 Least Squares   F-statistic:                     302.2\n",
       "Date:                Thu, 17 Oct 2024   Prob (F-statistic):           4.23e-22\n",
       "Time:                        09:46:22   Log-Likelihood:                -323.87\n",
       "No. Observations:                  49   AIC:                             651.7\n",
       "Df Residuals:                      47   BIC:                             655.5\n",
       "Df Model:                           1                                         \n",
       "Covariance Type:            nonrobust                                         \n",
       "==============================================================================\n",
       "                 coef    std err          t      P>|t|      [0.025      0.975]\n",
       "------------------------------------------------------------------------------\n",
       "const       1612.9763    185.831      8.680      0.000    1239.133    1986.820\n",
       "num_pass      39.8941      2.295     17.383      0.000      35.277      44.511\n",
       "==============================================================================\n",
       "Omnibus:                        3.612   Durbin-Watson:                   2.624\n",
       "Prob(Omnibus):                  0.164   Jarque-Bera (JB):                2.700\n",
       "Skew:                           0.556   Prob(JB):                        0.259\n",
       "Kurtosis:                       3.296   Cond. No.                         574.\n",
       "==============================================================================\n",
       "\n",
       "Notes:\n",
       "[1] Standard Errors assume that the covariance matrix of the errors is correctly specified.\n",
       "\"\"\""
      ]
     },
     "execution_count": 13,
     "metadata": {},
     "output_type": "execute_result"
    }
   ],
   "source": [
    "model = sm.OLS(y,xc).fit()\n",
    "model.summary()"
   ]
  },
  {
   "cell_type": "markdown",
   "id": "c9e4a362-99b0-4059-bc51-73424d5025b9",
   "metadata": {},
   "source": [
    "# R^2 is 0.865\n",
    "# The 86.5% variation in the cost(Dependent variable) is explained by the num_pass(independent variable)"
   ]
  },
  {
   "cell_type": "markdown",
   "id": "08ff5b16-834d-44c0-94e5-40991b208d3c",
   "metadata": {},
   "source": [
    "## we will check whether constant is significant or not.\n",
    "## The coef shows that (c) 1613 is the fixed cost and (m=slope) 39.89 is the variable cost(slope). \n",
    "## Slope indicate the change in y wrt a unit change in X(one additional passenger)."
   ]
  },
  {
   "cell_type": "raw",
   "id": "f1983063-71c2-45fc-addb-ca582b50b3a9",
   "metadata": {},
   "source": [
    "H0 : Constant = 0\n",
    "H1 : Constant != 0"
   ]
  },
  {
   "cell_type": "raw",
   "id": "35a52ba3-901b-457f-9206-944cfe75e6c2",
   "metadata": {},
   "source": [
    "As we can see that P > |t| is 0.00\n",
    "P value is < than significant value \n",
    "Therefore we reject null hypothesis.\n",
    "we can conclude that Constant is significant"
   ]
  },
  {
   "cell_type": "code",
   "execution_count": 18,
   "id": "71c3df36-926b-42d2-801d-a33d511ac8c9",
   "metadata": {},
   "outputs": [],
   "source": [
    "y_pred = model.predict(xc)"
   ]
  },
  {
   "cell_type": "code",
   "execution_count": 38,
   "id": "162c4de8-6d05-44ad-98dc-ed71e65127c7",
   "metadata": {},
   "outputs": [
    {
     "data": {
      "text/plain": [
       "[<matplotlib.lines.Line2D at 0x21c43447740>]"
      ]
     },
     "execution_count": 38,
     "metadata": {},
     "output_type": "execute_result"
    },
    {
     "data": {
      "image/png": "[encoded data removed]",
      "text/plain": [
       "<Figure size 1900x700 with 1 Axes>"
      ]
     },
     "metadata": {},
     "output_type": "display_data"
    }
   ],
   "source": [
    "plt.figure(figsize = (19,7))\n",
    "plt.scatter(x,y)\n",
    "plt.plot(x,y_pred,color = 'r')"
   ]
  },
  {
   "cell_type": "markdown",
   "id": "2894f47e-7912-4623-97c3-06d9a60d93b5",
   "metadata": {},
   "source": [
    "# Example"
   ]
  },
  {
   "cell_type": "code",
   "execution_count": 55,
   "id": "a1c148a3-2c6a-49fe-9f45-221dc53f3687",
   "metadata": {},
   "outputs": [
    {
     "data": {
      "image/png": "[encoded data removed]",
      "text/plain": [
       "<Figure size 1000x500 with 1 Axes>"
      ]
     },
     "metadata": {},
     "output_type": "display_data"
    }
   ],
   "source": [
    "# Define Features\n",
    "income = np.linspace(100,150,500)\n",
    "f = [0,1]\n",
    "plt.figure(figsize = (10,5))\n",
    "\n",
    "for i in f:\n",
    "    s = 50 + 5 * income + 10 * i\n",
    "    label = f'F = {i}'\n",
    "    plt.plot(income,s,label=label)\n",
    "\n",
    "plt.xlabel('Income')\n",
    "plt.ylabel('Sales')\n",
    "plt.title('plot of s = 50 + 5 * income + 10 * i')\n",
    "plt.legend()\n",
    "plt.grid(True)\n",
    "plt.show()\n"
   ]
  },
  {
   "cell_type": "markdown",
   "id": "715f3b38-05c8-4f06-89f0-3948afa7181c",
   "metadata": {},
   "source": [
    "## Virgina Semi Conductors"
   ]
  },
  {
   "cell_type": "code",
   "execution_count": 58,
   "id": "42b01216-2f4b-4e5a-a41a-82677fab2fcd",
   "metadata": {},
   "outputs": [
    {
     "data": {
      "text/html": [
       "<div>\n",
       "<style scoped>\n",
       "    .dataframe tbody tr th:only-of-type {\n",
       "        vertical-align: middle;\n",
       "    }\n",
       "\n",
       "    .dataframe tbody tr th {\n",
       "        vertical-align: top;\n",
       "    }\n",
       "\n",
       "    .dataframe thead th {\n",
       "        text-align: right;\n",
       "    }\n",
       "</style>\n",
       "<table border=\"1\" class=\"dataframe\">\n",
       "  <thead>\n",
       "    <tr style=\"text-align: right;\">\n",
       "      <th></th>\n",
       "      <th>Size_of_Purchase</th>\n",
       "      <th>Company_Size</th>\n",
       "      <th>%Imports</th>\n",
       "      <th>Distance</th>\n",
       "      <th>Central_Purchaser</th>\n",
       "    </tr>\n",
       "  </thead>\n",
       "  <tbody>\n",
       "    <tr>\n",
       "      <th>0</th>\n",
       "      <td>27.9</td>\n",
       "      <td>25.6</td>\n",
       "      <td>41</td>\n",
       "      <td>18</td>\n",
       "      <td>0</td>\n",
       "    </tr>\n",
       "    <tr>\n",
       "      <th>1</th>\n",
       "      <td>89.6</td>\n",
       "      <td>109.8</td>\n",
       "      <td>16</td>\n",
       "      <td>75</td>\n",
       "      <td>0</td>\n",
       "    </tr>\n",
       "    <tr>\n",
       "      <th>2</th>\n",
       "      <td>12.8</td>\n",
       "      <td>39.4</td>\n",
       "      <td>29</td>\n",
       "      <td>14</td>\n",
       "      <td>0</td>\n",
       "    </tr>\n",
       "    <tr>\n",
       "      <th>3</th>\n",
       "      <td>34.9</td>\n",
       "      <td>16.7</td>\n",
       "      <td>31</td>\n",
       "      <td>117</td>\n",
       "      <td>0</td>\n",
       "    </tr>\n",
       "    <tr>\n",
       "      <th>4</th>\n",
       "      <td>408.6</td>\n",
       "      <td>278.4</td>\n",
       "      <td>14</td>\n",
       "      <td>209</td>\n",
       "      <td>1</td>\n",
       "    </tr>\n",
       "  </tbody>\n",
       "</table>\n",
       "</div>"
      ],
      "text/plain": [
       "   Size_of_Purchase  Company_Size  %Imports  Distance  Central_Purchaser\n",
       "0              27.9          25.6        41        18                  0\n",
       "1              89.6         109.8        16        75                  0\n",
       "2              12.8          39.4        29        14                  0\n",
       "3              34.9          16.7        31       117                  0\n",
       "4             408.6         278.4        14       209                  1"
      ]
     },
     "execution_count": 58,
     "metadata": {},
     "output_type": "execute_result"
    }
   ],
   "source": [
    "df1 = pd.read_csv(r\"C:\\Users\\rajes\\OneDrive\\Desktop\\Praxis\\Term 2\\MSE\\data-20241017T032734Z-001\\data\\virginia semiconductors.csv\")\n",
    "df1.head()"
   ]
  },
  {
   "cell_type": "markdown",
   "id": "7ec82f95-b14d-4c7e-9131-1d0ea4926cb6",
   "metadata": {},
   "source": [
    "### Size_of_purchase(sop) = C + α1*company_size - α2*imports - α3*distance + α4*central_purchaser(cp)\n"
   ]
  },
  {
   "cell_type": "raw",
   "id": "db18d250-4365-4996-afbc-8b2811d08808",
   "metadata": {},
   "source": [
    "-ve α2 because if import increase the cost spent by company is more. \n",
    "-ve α3 coz if distance increase, the transportation cost increase."
   ]
  },
  {
   "cell_type": "code",
   "execution_count": 64,
   "id": "35af7321-49e2-4160-a1ff-1d1bf815dbd5",
   "metadata": {},
   "outputs": [],
   "source": [
    "y = df1[['Size_of_Purchase']]\n",
    "x = df1.drop('Size_of_Purchase',axis=1)\n",
    "xc = sm.add_constant(x)"
   ]
  },
  {
   "cell_type": "code",
   "execution_count": 66,
   "id": "a0a35e7c-72aa-4132-833b-71c72fc2504c",
   "metadata": {},
   "outputs": [
    {
     "name": "stderr",
     "output_type": "stream",
     "text": [
      "C:\\Users\\rajes\\anaconda3\\Lib\\site-packages\\scipy\\stats\\_axis_nan_policy.py:531: UserWarning: kurtosistest only valid for n>=20 ... continuing anyway, n=17\n",
      "  res = hypotest_fun_out(*samples, **kwds)\n"
     ]
    },
    {
     "data": {
      "text/html": [
       "<table class=\"simpletable\">\n",
       "<caption>OLS Regression Results</caption>\n",
       "<tr>\n",
       "  <th>Dep. Variable:</th>    <td>Size_of_Purchase</td> <th>  R-squared:         </th> <td>   0.948</td>\n",
       "</tr>\n",
       "<tr>\n",
       "  <th>Model:</th>                   <td>OLS</td>       <th>  Adj. R-squared:    </th> <td>   0.931</td>\n",
       "</tr>\n",
       "<tr>\n",
       "  <th>Method:</th>             <td>Least Squares</td>  <th>  F-statistic:       </th> <td>   55.00</td>\n",
       "</tr>\n",
       "<tr>\n",
       "  <th>Date:</th>             <td>Thu, 17 Oct 2024</td> <th>  Prob (F-statistic):</th> <td>1.28e-07</td>\n",
       "</tr>\n",
       "<tr>\n",
       "  <th>Time:</th>                 <td>10:16:23</td>     <th>  Log-Likelihood:    </th> <td> -82.436</td>\n",
       "</tr>\n",
       "<tr>\n",
       "  <th>No. Observations:</th>      <td>    17</td>      <th>  AIC:               </th> <td>   174.9</td>\n",
       "</tr>\n",
       "<tr>\n",
       "  <th>Df Residuals:</th>          <td>    12</td>      <th>  BIC:               </th> <td>   179.0</td>\n",
       "</tr>\n",
       "<tr>\n",
       "  <th>Df Model:</th>              <td>     4</td>      <th>                     </th>     <td> </td>   \n",
       "</tr>\n",
       "<tr>\n",
       "  <th>Covariance Type:</th>      <td>nonrobust</td>    <th>                     </th>     <td> </td>   \n",
       "</tr>\n",
       "</table>\n",
       "<table class=\"simpletable\">\n",
       "<tr>\n",
       "          <td></td>             <th>coef</th>     <th>std err</th>      <th>t</th>      <th>P>|t|</th>  <th>[0.025</th>    <th>0.975]</th>  \n",
       "</tr>\n",
       "<tr>\n",
       "  <th>const</th>             <td>   -3.6686</td> <td>   30.107</td> <td>   -0.122</td> <td> 0.905</td> <td>  -69.266</td> <td>   61.929</td>\n",
       "</tr>\n",
       "<tr>\n",
       "  <th>Company_Size</th>      <td>    1.2687</td> <td>    0.200</td> <td>    6.355</td> <td> 0.000</td> <td>    0.834</td> <td>    1.704</td>\n",
       "</tr>\n",
       "<tr>\n",
       "  <th>%Imports</th>          <td>    0.0508</td> <td>    0.865</td> <td>    0.059</td> <td> 0.954</td> <td>   -1.834</td> <td>    1.936</td>\n",
       "</tr>\n",
       "<tr>\n",
       "  <th>Distance</th>          <td>   -0.2204</td> <td>    0.256</td> <td>   -0.860</td> <td> 0.407</td> <td>   -0.779</td> <td>    0.338</td>\n",
       "</tr>\n",
       "<tr>\n",
       "  <th>Central_Purchaser</th> <td>  127.3502</td> <td>   23.880</td> <td>    5.333</td> <td> 0.000</td> <td>   75.321</td> <td>  179.380</td>\n",
       "</tr>\n",
       "</table>\n",
       "<table class=\"simpletable\">\n",
       "<tr>\n",
       "  <th>Omnibus:</th>       <td> 2.223</td> <th>  Durbin-Watson:     </th> <td>   1.586</td>\n",
       "</tr>\n",
       "<tr>\n",
       "  <th>Prob(Omnibus):</th> <td> 0.329</td> <th>  Jarque-Bera (JB):  </th> <td>   1.588</td>\n",
       "</tr>\n",
       "<tr>\n",
       "  <th>Skew:</th>          <td>-0.727</td> <th>  Prob(JB):          </th> <td>   0.452</td>\n",
       "</tr>\n",
       "<tr>\n",
       "  <th>Kurtosis:</th>      <td> 2.640</td> <th>  Cond. No.          </th> <td>    542.</td>\n",
       "</tr>\n",
       "</table><br/><br/>Notes:<br/>[1] Standard Errors assume that the covariance matrix of the errors is correctly specified."
      ],
      "text/latex": [
       "\\begin{center}\n",
       "\\begin{tabular}{lclc}\n",
       "\\toprule\n",
       "\\textbf{Dep. Variable:}     & Size\\_of\\_Purchase & \\textbf{  R-squared:         } &     0.948   \\\\\n",
       "\\textbf{Model:}             &        OLS         & \\textbf{  Adj. R-squared:    } &     0.931   \\\\\n",
       "\\textbf{Method:}            &   Least Squares    & \\textbf{  F-statistic:       } &     55.00   \\\\\n",
       "\\textbf{Date:}              &  Thu, 17 Oct 2024  & \\textbf{  Prob (F-statistic):} &  1.28e-07   \\\\\n",
       "\\textbf{Time:}              &      10:16:23      & \\textbf{  Log-Likelihood:    } &   -82.436   \\\\\n",
       "\\textbf{No. Observations:}  &           17       & \\textbf{  AIC:               } &     174.9   \\\\\n",
       "\\textbf{Df Residuals:}      &           12       & \\textbf{  BIC:               } &     179.0   \\\\\n",
       "\\textbf{Df Model:}          &            4       & \\textbf{                     } &             \\\\\n",
       "\\textbf{Covariance Type:}   &     nonrobust      & \\textbf{                     } &             \\\\\n",
       "\\bottomrule\n",
       "\\end{tabular}\n",
       "\\begin{tabular}{lcccccc}\n",
       "                            & \\textbf{coef} & \\textbf{std err} & \\textbf{t} & \\textbf{P$> |$t$|$} & \\textbf{[0.025} & \\textbf{0.975]}  \\\\\n",
       "\\midrule\n",
       "\\textbf{const}              &      -3.6686  &       30.107     &    -0.122  &         0.905        &      -69.266    &       61.929     \\\\\n",
       "\\textbf{Company\\_Size}      &       1.2687  &        0.200     &     6.355  &         0.000        &        0.834    &        1.704     \\\\\n",
       "\\textbf{\\%Imports}          &       0.0508  &        0.865     &     0.059  &         0.954        &       -1.834    &        1.936     \\\\\n",
       "\\textbf{Distance}           &      -0.2204  &        0.256     &    -0.860  &         0.407        &       -0.779    &        0.338     \\\\\n",
       "\\textbf{Central\\_Purchaser} &     127.3502  &       23.880     &     5.333  &         0.000        &       75.321    &      179.380     \\\\\n",
       "\\bottomrule\n",
       "\\end{tabular}\n",
       "\\begin{tabular}{lclc}\n",
       "\\textbf{Omnibus:}       &  2.223 & \\textbf{  Durbin-Watson:     } &    1.586  \\\\\n",
       "\\textbf{Prob(Omnibus):} &  0.329 & \\textbf{  Jarque-Bera (JB):  } &    1.588  \\\\\n",
       "\\textbf{Skew:}          & -0.727 & \\textbf{  Prob(JB):          } &    0.452  \\\\\n",
       "\\textbf{Kurtosis:}      &  2.640 & \\textbf{  Cond. No.          } &     542.  \\\\\n",
       "\\bottomrule\n",
       "\\end{tabular}\n",
       "%\\caption{OLS Regression Results}\n",
       "\\end{center}\n",
       "\n",
       "Notes: \\newline\n",
       " [1] Standard Errors assume that the covariance matrix of the errors is correctly specified."
      ],
      "text/plain": [
       "<class 'statsmodels.iolib.summary.Summary'>\n",
       "\"\"\"\n",
       "                            OLS Regression Results                            \n",
       "==============================================================================\n",
       "Dep. Variable:       Size_of_Purchase   R-squared:                       0.948\n",
       "Model:                            OLS   Adj. R-squared:                  0.931\n",
       "Method:                 Least Squares   F-statistic:                     55.00\n",
       "Date:                Thu, 17 Oct 2024   Prob (F-statistic):           1.28e-07\n",
       "Time:                        10:16:23   Log-Likelihood:                -82.436\n",
       "No. Observations:                  17   AIC:                             174.9\n",
       "Df Residuals:                      12   BIC:                             179.0\n",
       "Df Model:                           4                                         \n",
       "Covariance Type:            nonrobust                                         \n",
       "=====================================================================================\n",
       "                        coef    std err          t      P>|t|      [0.025      0.975]\n",
       "-------------------------------------------------------------------------------------\n",
       "const                -3.6686     30.107     -0.122      0.905     -69.266      61.929\n",
       "Company_Size          1.2687      0.200      6.355      0.000       0.834       1.704\n",
       "%Imports              0.0508      0.865      0.059      0.954      -1.834       1.936\n",
       "Distance             -0.2204      0.256     -0.860      0.407      -0.779       0.338\n",
       "Central_Purchaser   127.3502     23.880      5.333      0.000      75.321     179.380\n",
       "==============================================================================\n",
       "Omnibus:                        2.223   Durbin-Watson:                   1.586\n",
       "Prob(Omnibus):                  0.329   Jarque-Bera (JB):                1.588\n",
       "Skew:                          -0.727   Prob(JB):                        0.452\n",
       "Kurtosis:                       2.640   Cond. No.                         542.\n",
       "==============================================================================\n",
       "\n",
       "Notes:\n",
       "[1] Standard Errors assume that the covariance matrix of the errors is correctly specified.\n",
       "\"\"\""
      ]
     },
     "execution_count": 66,
     "metadata": {},
     "output_type": "execute_result"
    }
   ],
   "source": [
    "model = sm.OLS(y,xc).fit()\n",
    "model.summary()"
   ]
  },
  {
   "cell_type": "markdown",
   "id": "c0f1e311-b817-47f3-91e2-812cc061edb3",
   "metadata": {},
   "source": [
    "### In linear regression we should not drop constant , even if its not significant. If we do, we for the pred line to pass from origin."
   ]
  },
  {
   "cell_type": "raw",
   "id": "0981b33e-b6f0-4771-959d-f2d6791d714d",
   "metadata": {},
   "source": [
    "We notice that distance and %imports are not significant(p>0.05). Hence, these variables will be dropped.\n",
    "imp : Const is not significant. But it is a requirement that we leave constant in the model,even if its not significant."
   ]
  },
  {
   "cell_type": "code",
   "execution_count": 71,
   "id": "6bcd1c96-6beb-4a22-9803-af184cfca586",
   "metadata": {},
   "outputs": [
    {
     "data": {
      "text/html": [
       "<div>\n",
       "<style scoped>\n",
       "    .dataframe tbody tr th:only-of-type {\n",
       "        vertical-align: middle;\n",
       "    }\n",
       "\n",
       "    .dataframe tbody tr th {\n",
       "        vertical-align: top;\n",
       "    }\n",
       "\n",
       "    .dataframe thead th {\n",
       "        text-align: right;\n",
       "    }\n",
       "</style>\n",
       "<table border=\"1\" class=\"dataframe\">\n",
       "  <thead>\n",
       "    <tr style=\"text-align: right;\">\n",
       "      <th></th>\n",
       "      <th>const</th>\n",
       "      <th>Company_Size</th>\n",
       "      <th>Central_Purchaser</th>\n",
       "    </tr>\n",
       "  </thead>\n",
       "  <tbody>\n",
       "    <tr>\n",
       "      <th>0</th>\n",
       "      <td>1.0</td>\n",
       "      <td>25.6</td>\n",
       "      <td>0</td>\n",
       "    </tr>\n",
       "    <tr>\n",
       "      <th>1</th>\n",
       "      <td>1.0</td>\n",
       "      <td>109.8</td>\n",
       "      <td>0</td>\n",
       "    </tr>\n",
       "    <tr>\n",
       "      <th>2</th>\n",
       "      <td>1.0</td>\n",
       "      <td>39.4</td>\n",
       "      <td>0</td>\n",
       "    </tr>\n",
       "    <tr>\n",
       "      <th>3</th>\n",
       "      <td>1.0</td>\n",
       "      <td>16.7</td>\n",
       "      <td>0</td>\n",
       "    </tr>\n",
       "    <tr>\n",
       "      <th>4</th>\n",
       "      <td>1.0</td>\n",
       "      <td>278.4</td>\n",
       "      <td>1</td>\n",
       "    </tr>\n",
       "  </tbody>\n",
       "</table>\n",
       "</div>"
      ],
      "text/plain": [
       "   const  Company_Size  Central_Purchaser\n",
       "0    1.0          25.6                  0\n",
       "1    1.0         109.8                  0\n",
       "2    1.0          39.4                  0\n",
       "3    1.0          16.7                  0\n",
       "4    1.0         278.4                  1"
      ]
     },
     "execution_count": 71,
     "metadata": {},
     "output_type": "execute_result"
    }
   ],
   "source": [
    "xc=xc.drop(['%Imports','Distance'],axis=1)\n",
    "xc.head()"
   ]
  },
  {
   "cell_type": "code",
   "execution_count": 73,
   "id": "09b1aa47-660c-499b-9f38-5c6fe503be2f",
   "metadata": {},
   "outputs": [
    {
     "name": "stderr",
     "output_type": "stream",
     "text": [
      "C:\\Users\\rajes\\anaconda3\\Lib\\site-packages\\scipy\\stats\\_axis_nan_policy.py:531: UserWarning: kurtosistest only valid for n>=20 ... continuing anyway, n=17\n",
      "  res = hypotest_fun_out(*samples, **kwds)\n"
     ]
    },
    {
     "data": {
      "text/html": [
       "<table class=\"simpletable\">\n",
       "<caption>OLS Regression Results</caption>\n",
       "<tr>\n",
       "  <th>Dep. Variable:</th>    <td>Size_of_Purchase</td> <th>  R-squared:         </th> <td>   0.942</td>\n",
       "</tr>\n",
       "<tr>\n",
       "  <th>Model:</th>                   <td>OLS</td>       <th>  Adj. R-squared:    </th> <td>   0.934</td>\n",
       "</tr>\n",
       "<tr>\n",
       "  <th>Method:</th>             <td>Least Squares</td>  <th>  F-statistic:       </th> <td>   114.7</td>\n",
       "</tr>\n",
       "<tr>\n",
       "  <th>Date:</th>             <td>Thu, 17 Oct 2024</td> <th>  Prob (F-statistic):</th> <td>2.09e-09</td>\n",
       "</tr>\n",
       "<tr>\n",
       "  <th>Time:</th>                 <td>10:20:41</td>     <th>  Log-Likelihood:    </th> <td> -83.341</td>\n",
       "</tr>\n",
       "<tr>\n",
       "  <th>No. Observations:</th>      <td>    17</td>      <th>  AIC:               </th> <td>   172.7</td>\n",
       "</tr>\n",
       "<tr>\n",
       "  <th>Df Residuals:</th>          <td>    14</td>      <th>  BIC:               </th> <td>   175.2</td>\n",
       "</tr>\n",
       "<tr>\n",
       "  <th>Df Model:</th>              <td>     2</td>      <th>                     </th>     <td> </td>   \n",
       "</tr>\n",
       "<tr>\n",
       "  <th>Covariance Type:</th>      <td>nonrobust</td>    <th>                     </th>     <td> </td>   \n",
       "</tr>\n",
       "</table>\n",
       "<table class=\"simpletable\">\n",
       "<tr>\n",
       "          <td></td>             <th>coef</th>     <th>std err</th>      <th>t</th>      <th>P>|t|</th>  <th>[0.025</th>    <th>0.975]</th>  \n",
       "</tr>\n",
       "<tr>\n",
       "  <th>const</th>             <td>   -8.5394</td> <td>   15.758</td> <td>   -0.542</td> <td> 0.596</td> <td>  -42.338</td> <td>   25.259</td>\n",
       "</tr>\n",
       "<tr>\n",
       "  <th>Company_Size</th>      <td>    1.1961</td> <td>    0.146</td> <td>    8.182</td> <td> 0.000</td> <td>    0.883</td> <td>    1.510</td>\n",
       "</tr>\n",
       "<tr>\n",
       "  <th>Central_Purchaser</th> <td>  126.9089</td> <td>   21.396</td> <td>    5.931</td> <td> 0.000</td> <td>   81.019</td> <td>  172.799</td>\n",
       "</tr>\n",
       "</table>\n",
       "<table class=\"simpletable\">\n",
       "<tr>\n",
       "  <th>Omnibus:</th>       <td> 2.894</td> <th>  Durbin-Watson:     </th> <td>   1.423</td>\n",
       "</tr>\n",
       "<tr>\n",
       "  <th>Prob(Omnibus):</th> <td> 0.235</td> <th>  Jarque-Bera (JB):  </th> <td>   2.284</td>\n",
       "</tr>\n",
       "<tr>\n",
       "  <th>Skew:</th>          <td>-0.830</td> <th>  Prob(JB):          </th> <td>   0.319</td>\n",
       "</tr>\n",
       "<tr>\n",
       "  <th>Kurtosis:</th>      <td> 2.318</td> <th>  Cond. No.          </th> <td>    320.</td>\n",
       "</tr>\n",
       "</table><br/><br/>Notes:<br/>[1] Standard Errors assume that the covariance matrix of the errors is correctly specified."
      ],
      "text/latex": [
       "\\begin{center}\n",
       "\\begin{tabular}{lclc}\n",
       "\\toprule\n",
       "\\textbf{Dep. Variable:}     & Size\\_of\\_Purchase & \\textbf{  R-squared:         } &     0.942   \\\\\n",
       "\\textbf{Model:}             &        OLS         & \\textbf{  Adj. R-squared:    } &     0.934   \\\\\n",
       "\\textbf{Method:}            &   Least Squares    & \\textbf{  F-statistic:       } &     114.7   \\\\\n",
       "\\textbf{Date:}              &  Thu, 17 Oct 2024  & \\textbf{  Prob (F-statistic):} &  2.09e-09   \\\\\n",
       "\\textbf{Time:}              &      10:20:41      & \\textbf{  Log-Likelihood:    } &   -83.341   \\\\\n",
       "\\textbf{No. Observations:}  &           17       & \\textbf{  AIC:               } &     172.7   \\\\\n",
       "\\textbf{Df Residuals:}      &           14       & \\textbf{  BIC:               } &     175.2   \\\\\n",
       "\\textbf{Df Model:}          &            2       & \\textbf{                     } &             \\\\\n",
       "\\textbf{Covariance Type:}   &     nonrobust      & \\textbf{                     } &             \\\\\n",
       "\\bottomrule\n",
       "\\end{tabular}\n",
       "\\begin{tabular}{lcccccc}\n",
       "                            & \\textbf{coef} & \\textbf{std err} & \\textbf{t} & \\textbf{P$> |$t$|$} & \\textbf{[0.025} & \\textbf{0.975]}  \\\\\n",
       "\\midrule\n",
       "\\textbf{const}              &      -8.5394  &       15.758     &    -0.542  &         0.596        &      -42.338    &       25.259     \\\\\n",
       "\\textbf{Company\\_Size}      &       1.1961  &        0.146     &     8.182  &         0.000        &        0.883    &        1.510     \\\\\n",
       "\\textbf{Central\\_Purchaser} &     126.9089  &       21.396     &     5.931  &         0.000        &       81.019    &      172.799     \\\\\n",
       "\\bottomrule\n",
       "\\end{tabular}\n",
       "\\begin{tabular}{lclc}\n",
       "\\textbf{Omnibus:}       &  2.894 & \\textbf{  Durbin-Watson:     } &    1.423  \\\\\n",
       "\\textbf{Prob(Omnibus):} &  0.235 & \\textbf{  Jarque-Bera (JB):  } &    2.284  \\\\\n",
       "\\textbf{Skew:}          & -0.830 & \\textbf{  Prob(JB):          } &    0.319  \\\\\n",
       "\\textbf{Kurtosis:}      &  2.318 & \\textbf{  Cond. No.          } &     320.  \\\\\n",
       "\\bottomrule\n",
       "\\end{tabular}\n",
       "%\\caption{OLS Regression Results}\n",
       "\\end{center}\n",
       "\n",
       "Notes: \\newline\n",
       " [1] Standard Errors assume that the covariance matrix of the errors is correctly specified."
      ],
      "text/plain": [
       "<class 'statsmodels.iolib.summary.Summary'>\n",
       "\"\"\"\n",
       "                            OLS Regression Results                            \n",
       "==============================================================================\n",
       "Dep. Variable:       Size_of_Purchase   R-squared:                       0.942\n",
       "Model:                            OLS   Adj. R-squared:                  0.934\n",
       "Method:                 Least Squares   F-statistic:                     114.7\n",
       "Date:                Thu, 17 Oct 2024   Prob (F-statistic):           2.09e-09\n",
       "Time:                        10:20:41   Log-Likelihood:                -83.341\n",
       "No. Observations:                  17   AIC:                             172.7\n",
       "Df Residuals:                      14   BIC:                             175.2\n",
       "Df Model:                           2                                         \n",
       "Covariance Type:            nonrobust                                         \n",
       "=====================================================================================\n",
       "                        coef    std err          t      P>|t|      [0.025      0.975]\n",
       "-------------------------------------------------------------------------------------\n",
       "const                -8.5394     15.758     -0.542      0.596     -42.338      25.259\n",
       "Company_Size          1.1961      0.146      8.182      0.000       0.883       1.510\n",
       "Central_Purchaser   126.9089     21.396      5.931      0.000      81.019     172.799\n",
       "==============================================================================\n",
       "Omnibus:                        2.894   Durbin-Watson:                   1.423\n",
       "Prob(Omnibus):                  0.235   Jarque-Bera (JB):                2.284\n",
       "Skew:                          -0.830   Prob(JB):                        0.319\n",
       "Kurtosis:                       2.318   Cond. No.                         320.\n",
       "==============================================================================\n",
       "\n",
       "Notes:\n",
       "[1] Standard Errors assume that the covariance matrix of the errors is correctly specified.\n",
       "\"\"\""
      ]
     },
     "execution_count": 73,
     "metadata": {},
     "output_type": "execute_result"
    }
   ],
   "source": [
    "model = sm.OLS(y,xc).fit()\n",
    "model.summary()"
   ]
  },
  {
   "cell_type": "markdown",
   "id": "73d80ce5-3279-442a-8797-3fe70304abe6",
   "metadata": {},
   "source": [
    "## Size_of_Purchase = -8.54 + 1.196*company_size + 126.9 * Central_Purchaser"
   ]
  },
  {
   "cell_type": "raw",
   "id": "737286be-72d4-41c0-8681-e544a47dca82",
   "metadata": {},
   "source": [
    "F-Test (Test of model as a whole) \n",
    "H0 : β1 = β2 = 0 (β1 = β of Company_Size , β2 = β of Central_Purchaser)\n",
    "H1 : β1 != β2 != 0\n",
    "\n",
    "H0 tells us that all the co efficients of independent features are equal to 0.\n",
    "\n",
    "The result shows us that prob(2.09e-09) which is very less than significant value (0.05) .\n",
    "We will reject the null hypothesis\n",
    "The model is significant (Good)."
   ]
  },
  {
   "cell_type": "code",
   "execution_count": 76,
   "id": "dd64466d-9415-48a4-9788-9756e2bc9551",
   "metadata": {},
   "outputs": [],
   "source": [
    "y_pred = model.predict(xc)"
   ]
  },
  {
   "cell_type": "code",
   "execution_count": 78,
   "id": "77934378-6c34-45a6-9167-1cc0378ea2f3",
   "metadata": {},
   "outputs": [
    {
     "data": {
      "image/png": "[encoded data removed]",
      "text/plain": [
       "<Figure size 1000x800 with 1 Axes>"
      ]
     },
     "metadata": {},
     "output_type": "display_data"
    }
   ],
   "source": [
    "plt.figure(figsize = (10,8))\n",
    "plt.scatter(y,y_pred)\n",
    "plt.xlabel('y')\n",
    "plt.ylabel('y_pred')\n",
    "plt.show()"
   ]
  },
  {
   "cell_type": "code",
   "execution_count": 80,
   "id": "7a80b89e-8a42-4af3-af6c-269f28d9bf43",
   "metadata": {},
   "outputs": [
    {
     "data": {
      "text/plain": [
       "<Axes: xlabel='Size_of_Purchase'>"
      ]
     },
     "execution_count": 80,
     "metadata": {},
     "output_type": "execute_result"
    },
    {
     "data": {
      "image/png": "[encoded data removed]",
      "text/plain": [
       "<Figure size 1000x400 with 1 Axes>"
      ]
     },
     "metadata": {},
     "output_type": "display_data"
    }
   ],
   "source": [
    "plt.figure(figsize=(10,4))\n",
    "sns.regplot(x=y,y=y_pred)"
   ]
  },
  {
   "cell_type": "code",
   "execution_count": null,
   "id": "4b8f6a5f-c134-425c-ad0f-7607d4bcc0ca",
   "metadata": {},
   "outputs": [],
   "source": []
  }
 ],
 "metadata": {
  "kernelspec": {
   "display_name": "Python 3 (ipykernel)",
   "language": "python",
   "name": "python3"
  },
  "language_info": {
   "codemirror_mode": {
    "name": "ipython",
    "version": 3
   },
   "file_extension": ".py",
   "mimetype": "text/x-python",
   "name": "python",
   "nbconvert_exporter": "python",
   "pygments_lexer": "ipython3",
   "version": "3.12.4"
  }
 },
 "nbformat": 4,
 "nbformat_minor": 5
}
